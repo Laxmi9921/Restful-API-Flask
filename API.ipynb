{
  "nbformat": 4,
  "nbformat_minor": 0,
  "metadata": {
    "colab": {
      "provenance": []
    },
    "kernelspec": {
      "name": "python3",
      "display_name": "Python 3"
    },
    "language_info": {
      "name": "python"
    }
  },
  "cells": [
    {
      "cell_type": "markdown",
      "source": [
        "1.How do you create a basic Flask applications?\n"
      ],
      "metadata": {
        "id": "H9ivZBMuaQpZ"
      }
    },
    {
      "cell_type": "code",
      "source": [
        "from flask import Flask\n",
        "def create_app():\n",
        "  app = Flask(__name__)\n",
        "  @app.route('/')\n",
        "  def home():\n",
        "    return \"Hello, Flask!\"\n",
        "  @app.route('/about')\n",
        "  def about():\n",
        "    return \"This is the About page.\"\n",
        "  app = create_app()\n",
        "  if __name__ == '__main__':\n",
        "    app.run(debug=True,\n",
        "  use_reloader=Flase)"
      ],
      "metadata": {
        "id": "1JWeKqsNcsx6"
      },
      "execution_count": 6,
      "outputs": []
    },
    {
      "cell_type": "markdown",
      "source": [
        "2.How do you serve static files like images or CSS in Flask?"
      ],
      "metadata": {
        "id": "sPOB5Y7Mdw1F"
      }
    },
    {
      "cell_type": "code",
      "source": [
        "from flask import Flask\n",
        "def create_app():\n",
        "  app = Flask(__name__)\n",
        "  @app.route('/')\n",
        "  def home():\n",
        "    return \"Hello, Flask!\"\n",
        "  @app.route('/about')\n",
        "  def about():\n",
        "    return \"This is the About page.\"\n",
        "  app = create_app()\n",
        "  if __name__ == '__main__':\n",
        "    app.run(debug=True,\n",
        "use_reloader=False)"
      ],
      "metadata": {
        "id": "IOR_DN-igjbk"
      },
      "execution_count": 19,
      "outputs": []
    },
    {
      "cell_type": "markdown",
      "source": [
        "3.How do you define different routes with different HTTP methods in Flask?"
      ],
      "metadata": {
        "id": "dppBnbPjib9a"
      }
    },
    {
      "cell_type": "code",
      "source": [
        "@app.route('/multi-method',\n",
        "method=['GET', 'POST'])\n",
        "def multi_method():\n",
        "  if request.method == 'GET':\n",
        "    return \"Handled GET request\"\n",
        "  elif request.method == 'POST':\n",
        "    return f\"Handled POST with data:\n",
        " {request.get_json()}\""
      ],
      "metadata": {
        "id": "0Q98WAfHhclg"
      },
      "execution_count": null,
      "outputs": []
    },
    {
      "cell_type": "markdown",
      "source": [
        "4.How do you render HTML templates in flask?"
      ],
      "metadata": {
        "id": "ao5kPwigny1l"
      }
    },
    {
      "cell_type": "code",
      "source": [
        "from flask import Flask, render_template\n",
        "app = Flask(__name__)\n",
        "@app.route('/')\n",
        "def home():\n",
        "  return render_template('index.html', name='John')"
      ],
      "metadata": {
        "id": "1eWZ1CKDnZjv"
      },
      "execution_count": null,
      "outputs": []
    },
    {
      "cell_type": "markdown",
      "source": [
        "5.How can you generate URLs for routes in Flask using url_ for?"
      ],
      "metadata": {
        "id": "6C1SeY9Soxim"
      }
    },
    {
      "cell_type": "code",
      "source": [
        "from flask import Flask, url_for\n",
        "app = Flask(__name__)\n",
        "@app.route('/')\n",
        "def index():\n",
        "   return 'Home Page'\n",
        "@app.route('/user/<username>')\n",
        "def profile(username):\n",
        "  return f\"User: {username}\""
      ],
      "metadata": {
        "id": "q12-1W67oulw"
      },
      "execution_count": null,
      "outputs": []
    },
    {
      "cell_type": "markdown",
      "source": [
        "6.How do you handle forms in Flask?"
      ],
      "metadata": {
        "id": "5Sc7HcIiqCpB"
      }
    },
    {
      "cell_type": "code",
      "source": [
        "@app.route('/submit', methods=['POST'])\n",
        "def submit():\n",
        "  username = request.form.get('username')\n",
        "  if not username:\n",
        "    return \"Name is required!\", 400 return\n",
        "render_template('success.html', name=username)"
      ],
      "metadata": {
        "id": "XiyJzKbmpybS"
      },
      "execution_count": null,
      "outputs": []
    },
    {
      "cell_type": "markdown",
      "source": [
        "7.How can you validate form data in Flask?"
      ],
      "metadata": {
        "id": "FIWOeQ50rU7O"
      }
    },
    {
      "cell_type": "code",
      "source": [
        "from flask import Flask, render_template, request\n",
        "app = Flask(__name__)\n",
        "@app.route('/', methods=['GET', 'POST'])\n",
        "def register():\n",
        "  error = None\n",
        "  if request.method == \"POST\":\n",
        "    username =\n",
        "request.form.get('email')\n",
        "    if not username:\n",
        "      error = 'Username is required.'\n",
        "    elif not email or '@' not in email:\n",
        "      error = 'A valid email is required.'\n",
        "    else:\n",
        "        return f\"Welcome, {username}!\"\n",
        "      return\n",
        "  render_template('register.html', error=error)"
      ],
      "metadata": {
        "id": "59lpSaW1rPiV"
      },
      "execution_count": null,
      "outputs": []
    },
    {
      "cell_type": "markdown",
      "source": [
        "8.How do you manage sessions in Flask?"
      ],
      "metadata": {
        "id": "trjWQUCwuUuR"
      }
    },
    {
      "cell_type": "code",
      "source": [
        "@app.route('/profile')\n",
        "def profile():\n",
        "  if 'username' in session:\n",
        "    return f\"Logged in as {session['username']}\"\n",
        "     return redirect(url_for('login'))"
      ],
      "metadata": {
        "id": "PVIQW9yHuRwo"
      },
      "execution_count": null,
      "outputs": []
    },
    {
      "cell_type": "markdown",
      "source": [
        "9.How do you direct to a different route in flask?"
      ],
      "metadata": {
        "id": "aLBqkMABvfe6"
      }
    },
    {
      "cell_type": "code",
      "source": [
        "from flask import Flask, redirect, url_for\n",
        "app = Flask(__name__)\n",
        "@app.route('/')\n",
        "def home():\n",
        "    return\n",
        "  redirect(url_for('dashboard'))\n",
        "@app.route('/dashboard')\n",
        "def dashboard():\n",
        "  return 'Welcome to the dashboard!'"
      ],
      "metadata": {
        "id": "nD5b2XhMve13"
      },
      "execution_count": null,
      "outputs": []
    },
    {
      "cell_type": "markdown",
      "source": [
        "10.How do you handle errors in Flask(e.g., 404)?"
      ],
      "metadata": {
        "id": "NUf-1ot6wQXM"
      }
    },
    {
      "cell_type": "code",
      "source": [
        "from flask import Flask, render_template\n",
        "app = Flask(__name__)\n",
        "@app.route('/')\n",
        "def home():\n",
        "  return 'Welcome to the homepage!'\n",
        "@app.errorhandler(404)\n",
        "def page_not_found(errors):\n",
        "  return render_template('404.html'), 404"
      ],
      "metadata": {
        "id": "6Ta_bgD3wPV5"
      },
      "execution_count": null,
      "outputs": []
    },
    {
      "cell_type": "markdown",
      "source": [
        "11.How do you structure a Flask app using Blueprint?"
      ],
      "metadata": {
        "id": "uUnqNZ0GxFlZ"
      }
    },
    {
      "cell_type": "code",
      "source": [
        "from flask import Blueprint\n",
        "auth_bp = Blueprint('auth', __name__, url_prefix='/auth')\n",
        "@auth_bp.route('/login')\n",
        "def login():\n",
        "  return \"Login Page\"\n",
        "@auth_bp.route('/logout')\n",
        "def logout():\n",
        "  return \"Logout Page\""
      ],
      "metadata": {
        "id": "VD2cg1TpxDtR"
      },
      "execution_count": null,
      "outputs": []
    },
    {
      "cell_type": "markdown",
      "source": [
        "12.How do you define a custom Jinja filter in flask?"
      ],
      "metadata": {
        "id": "iYV0Zsdux6-u"
      }
    },
    {
      "cell_type": "code",
      "source": [
        "from flask import Flask, render_template\n",
        "app = Flask(__name__)\n",
        "@app.template_filter('reverse')\n",
        "def reverse_string(s):\n",
        "  return s[::-1]\n",
        "@app.route('/')\n",
        "def home():\n",
        "  text = \"Flask is awesome\"\n",
        "  return render_template('index.html', text=text)\n",
        "if __name__ == '__main__':\n",
        "  app.run(debug=True)"
      ],
      "metadata": {
        "id": "Siby5yYex6Ab"
      },
      "execution_count": null,
      "outputs": []
    },
    {
      "cell_type": "markdown",
      "source": [
        "13.How can you redirect with query parameters in Flask?"
      ],
      "metadata": {
        "id": "-gAFdiXTy9ft"
      }
    },
    {
      "cell_type": "code",
      "source": [
        "@app.route('/manual')\n",
        "def manual_redirect():\n",
        "  return redirect('/search?\n",
        "  q=manual+entry')"
      ],
      "metadata": {
        "id": "luJBbMvcy8EC"
      },
      "execution_count": null,
      "outputs": []
    },
    {
      "cell_type": "markdown",
      "source": [
        "14.How do you return JSON responses in Flask?"
      ],
      "metadata": {
        "id": "Jp_ozL-2zdnr"
      }
    },
    {
      "cell_type": "code",
      "source": [
        "from flask import Flask, jsonify\n",
        "app = Flask(__name__)\n",
        "@app.route('/api/data')\n",
        "def get_data():\n",
        "  data = {\n",
        "      'name': 'Flask',\n",
        "      'type': 'Web Framework',\n",
        "      'version': '2.x'\n",
        "  }\n",
        "  return jsonify(data)"
      ],
      "metadata": {
        "id": "TOZ4Oa1pzcTS"
      },
      "execution_count": null,
      "outputs": []
    },
    {
      "cell_type": "markdown",
      "source": [
        "15.How do you capture URL parameters in Flask?"
      ],
      "metadata": {
        "id": "eXj3ngP10PHU"
      }
    },
    {
      "cell_type": "code",
      "source": [
        "from flask import Flask\n",
        "app = Flask(__name__)\n",
        "@app.route9('/user/<username>')\n",
        "def show_user(username):\n",
        "  return f\"Hello, {username}!\""
      ],
      "metadata": {
        "id": "AjeLeJMr0NCr"
      },
      "execution_count": null,
      "outputs": []
    },
    {
      "cell_type": "code",
      "source": [],
      "metadata": {
        "id": "c3weKT7S09F_"
      },
      "execution_count": null,
      "outputs": []
    }
  ]
}